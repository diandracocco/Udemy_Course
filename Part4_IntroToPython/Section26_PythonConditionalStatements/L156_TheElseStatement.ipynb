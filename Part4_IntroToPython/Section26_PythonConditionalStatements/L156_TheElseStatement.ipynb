{
 "cells": [
  {
   "cell_type": "code",
   "execution_count": 1,
   "metadata": {},
   "outputs": [
    {
     "name": "stdout",
     "output_type": "stream",
     "text": [
      "case 2\n"
     ]
    }
   ],
   "source": [
    "x=1\n",
    "\n",
    "if x > 3:\n",
    "    print(\"Case 1\")    \n",
    "if x <= 3:\n",
    "    print (\"case 2\")"
   ]
  },
  {
   "cell_type": "code",
   "execution_count": 2,
   "metadata": {},
   "outputs": [
    {
     "name": "stdout",
     "output_type": "stream",
     "text": [
      "case 2\n"
     ]
    }
   ],
   "source": [
    "x=1\n",
    "\n",
    "if x > 3:\n",
    "    print(\"Case 1\")\n",
    "else: #else tells comp to execute successive command in all cases when x is not greater than 3\n",
    "    print (\"case 2\")"
   ]
  },
  {
   "cell_type": "code",
   "execution_count": 3,
   "metadata": {},
   "outputs": [
    {
     "ename": "SyntaxError",
     "evalue": "invalid syntax (<ipython-input-3-f4ea733048a7>, line 7)",
     "output_type": "error",
     "traceback": [
      "\u001b[0;36m  File \u001b[0;32m\"<ipython-input-3-f4ea733048a7>\"\u001b[0;36m, line \u001b[0;32m7\u001b[0m\n\u001b[0;31m    else: #is else is here it does not work\u001b[0m\n\u001b[0m    ^\u001b[0m\n\u001b[0;31mSyntaxError\u001b[0m\u001b[0;31m:\u001b[0m invalid syntax\n"
     ]
    }
   ],
   "source": [
    "#indentation plays a key role \n",
    "#remember to put the if and else keywords on the same line\n",
    "x=1\n",
    "\n",
    "if x > 3:\n",
    "    print(\"Case 1\")\n",
    "    else: #is else is here it does not work\n",
    "    print (\"case 2\")"
   ]
  },
  {
   "cell_type": "code",
   "execution_count": null,
   "metadata": {},
   "outputs": [],
   "source": []
  }
 ],
 "metadata": {
  "kernelspec": {
   "display_name": "Python 3",
   "language": "python",
   "name": "python3"
  },
  "language_info": {
   "codemirror_mode": {
    "name": "ipython",
    "version": 3
   },
   "file_extension": ".py",
   "mimetype": "text/x-python",
   "name": "python",
   "nbconvert_exporter": "python",
   "pygments_lexer": "ipython3",
   "version": "3.8.5"
  }
 },
 "nbformat": 4,
 "nbformat_minor": 4
}
