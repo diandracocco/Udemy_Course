{
 "cells": [
  {
   "cell_type": "code",
   "execution_count": 3,
   "metadata": {},
   "outputs": [
    {
     "name": "stdout",
     "output_type": "stream",
     "text": [
      "74\n"
     ]
    }
   ],
   "source": [
    "#here we store the prices of certain food in a dictionary \n",
    "prices = {\n",
    "    'Spaghetti': 4,\n",
    "    'Lasagna': 5,\n",
    "    'hamburger': 2\n",
    "}\n",
    "#here we identify the amount that someone got of each item at the store\n",
    "quantity = {\n",
    "    'Spaghetti': 6,\n",
    "    'Lasagna': 10,\n",
    "    'hamburger': 0\n",
    "}\n",
    "#we need to use a loop to multiply the quantities and determine amount of money spent\n",
    "money_spent = 0\n",
    "\n",
    "for i in prices:\n",
    "    money_spent = money_spent + (prices[i]*quantity[i])\n",
    "    \n",
    "print(money_spent)"
   ]
  },
  {
   "cell_type": "code",
   "execution_count": 6,
   "metadata": {},
   "outputs": [
    {
     "name": "stdout",
     "output_type": "stream",
     "text": [
      "74\n"
     ]
    }
   ],
   "source": [
    "money_spent = 0\n",
    "for i in quantity: #swapping out the dictironaries makes no difference\n",
    "#this is because they two dictionaries have the same keys\n",
    "    money_spent = money_spent + (prices[i]*quantity[i])\n",
    "    \n",
    "print(money_spent)"
   ]
  },
  {
   "cell_type": "code",
   "execution_count": null,
   "metadata": {},
   "outputs": [],
   "source": []
  }
 ],
 "metadata": {
  "kernelspec": {
   "display_name": "Python 3",
   "language": "python",
   "name": "python3"
  },
  "language_info": {
   "codemirror_mode": {
    "name": "ipython",
    "version": 3
   },
   "file_extension": ".py",
   "mimetype": "text/x-python",
   "name": "python",
   "nbconvert_exporter": "python",
   "pygments_lexer": "ipython3",
   "version": "3.8.5"
  }
 },
 "nbformat": 4,
 "nbformat_minor": 4
}
